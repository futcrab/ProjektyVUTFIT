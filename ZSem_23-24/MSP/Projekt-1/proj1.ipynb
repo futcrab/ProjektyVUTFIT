{
 "cells": [
  {
   "attachments": {},
   "cell_type": "markdown",
   "metadata": {},
   "source": [
    "# Projekt MSP1\n",
    "Cílem tohoto projektu je se seznámit s programovými nástroji využívaných ve statistice a osvojit si základní procedury. Projekt není primárně zaměřen na efektivitu využívání programového vybavení (i když úplně nevhodné konstrukce mohou mít vliv na hodnocení), ale nejvíce nás zajímají vaše statistické závěry a způsob vyhodnocení. Dbejte také na to, že každý graf musí splňovat nějaké podmínky - přehlednost, čitelnost, popisky.\n",
    "\n",
    "V projektu budete analyzovat časy běhu šesti různých konfigurací algoritmů. Ke každé konfiguraci vzniklo celkem 200 nezávislých běhů, jejichž logy máte k dispozici v souboru [logfiles.zip](logfiles.zip).\n",
    "\n",
    "Pokud nemáte rozchozené prostředí pro pro spouštění Jupyter notebooku, můžete využití službu [Google Colab](https://colab.google/). Jakákoliv spolupráce, sdílení řešení a podobně je zakázána!\n",
    "\n",
    "S případnými dotazy se obracejte na Vojtěcha Mrázka (mrazek@fit.vutbr.cz).\n",
    "\n",
    "__Odevzdání:__ tento soubor (není potřeba aby obsahoval výstupy skriptů) do neděle 22. 10. 2023 v IS VUT. Kontrola bude probíhat na Pythonu 3.10.12; neočekává se však to, že byste používali nějaké speciality a nekompatibilní knihovny. V případě nesouladu verzí a podobných problémů budete mít možnost reklamace a prokázání správnosti funkce. Bez vyplnění vašich komentářů a závěrů do označených buněk nebude projekt hodnocen!\n",
    "\n",
    "__Upozornění:__ nepřidávejte do notebooku další buňky, odpovídejte tam, kam se ptáme (textové komentáře do Markdown buněk)\n",
    "\n",
    "__Tip:__ před odevzdáním resetujte celý notebook a zkuste jej spustit od začátku. Zamezíte tak chybám krokování a editací, kdy výsledek z buňky na konci použijete na začátku."
   ]
  },
  {
   "attachments": {},
   "cell_type": "markdown",
   "metadata": {},
   "source": [
    "__OTÁZKA K DOPLNĚNÍ:__\n",
    "\n",
    "_Peter Ďurica xduric05_"
   ]
  },
  {
   "attachments": {},
   "cell_type": "markdown",
   "metadata": {},
   "source": [
    "## Načtení potřebných knihoven\n",
    "Načtěte knihovny, které jsou nutné pro zpracování souborů a práci se statistickými funkcemi. Není dovoleno načítat jiné knihovny."
   ]
  },
  {
   "cell_type": "code",
   "execution_count": 1,
   "metadata": {},
   "outputs": [],
   "source": [
    "import numpy as np\n",
    "import pandas as pd\n",
    "import matplotlib.pyplot as plt\n",
    "import scipy.stats as stats\n",
    "import seaborn as sns\n",
    "from zipfile import ZipFile"
   ]
  },
  {
   "attachments": {},
   "cell_type": "markdown",
   "metadata": {},
   "source": [
    "## Načtení dat do DataFrame\n",
    "Ze souboru `logfiles.zip` umístěném ve stejném adresáři načtěte data a vytvořte Pandas DataFrame.\n",
    "\n",
    "Z logu vás budou nejvíce zajímat řádky\n",
    "```\n",
    "Configuration: config6\n",
    "Run: 191\n",
    "Time of run: 53.298725254089774\n",
    "```\n",
    "\n",
    "Můžete využít následující kostru - je vhodné pracovat přímo se ZIP souborem. Jedinou nevýhodou je to, že vám bude vracet _byte_ objekt, který musíte přes funkci `decode` zpracovat."
   ]
  },
  {
   "cell_type": "code",
   "execution_count": 2,
   "metadata": {},
   "outputs": [
    {
     "data": {
      "text/html": [
       "<div>\n",
       "<style scoped>\n",
       "    .dataframe tbody tr th:only-of-type {\n",
       "        vertical-align: middle;\n",
       "    }\n",
       "\n",
       "    .dataframe tbody tr th {\n",
       "        vertical-align: top;\n",
       "    }\n",
       "\n",
       "    .dataframe thead th {\n",
       "        text-align: right;\n",
       "    }\n",
       "</style>\n",
       "<table border=\"1\" class=\"dataframe\">\n",
       "  <thead>\n",
       "    <tr style=\"text-align: right;\">\n",
       "      <th></th>\n",
       "      <th>conf</th>\n",
       "      <th>run</th>\n",
       "      <th>time</th>\n",
       "    </tr>\n",
       "  </thead>\n",
       "  <tbody>\n",
       "    <tr>\n",
       "      <th>0</th>\n",
       "      <td>config1</td>\n",
       "      <td>0</td>\n",
       "      <td>104.967142</td>\n",
       "    </tr>\n",
       "    <tr>\n",
       "      <th>1</th>\n",
       "      <td>config1</td>\n",
       "      <td>1</td>\n",
       "      <td>98.617357</td>\n",
       "    </tr>\n",
       "    <tr>\n",
       "      <th>2</th>\n",
       "      <td>config1</td>\n",
       "      <td>2</td>\n",
       "      <td>106.476885</td>\n",
       "    </tr>\n",
       "    <tr>\n",
       "      <th>3</th>\n",
       "      <td>config1</td>\n",
       "      <td>3</td>\n",
       "      <td>115.230299</td>\n",
       "    </tr>\n",
       "    <tr>\n",
       "      <th>4</th>\n",
       "      <td>config1</td>\n",
       "      <td>4</td>\n",
       "      <td>97.658466</td>\n",
       "    </tr>\n",
       "    <tr>\n",
       "      <th>...</th>\n",
       "      <td>...</td>\n",
       "      <td>...</td>\n",
       "      <td>...</td>\n",
       "    </tr>\n",
       "    <tr>\n",
       "      <th>1195</th>\n",
       "      <td>config6</td>\n",
       "      <td>195</td>\n",
       "      <td>168.809495</td>\n",
       "    </tr>\n",
       "    <tr>\n",
       "      <th>1196</th>\n",
       "      <td>config6</td>\n",
       "      <td>196</td>\n",
       "      <td>159.607244</td>\n",
       "    </tr>\n",
       "    <tr>\n",
       "      <th>1197</th>\n",
       "      <td>config6</td>\n",
       "      <td>197</td>\n",
       "      <td>171.049799</td>\n",
       "    </tr>\n",
       "    <tr>\n",
       "      <th>1198</th>\n",
       "      <td>config6</td>\n",
       "      <td>198</td>\n",
       "      <td>164.478283</td>\n",
       "    </tr>\n",
       "    <tr>\n",
       "      <th>1199</th>\n",
       "      <td>config6</td>\n",
       "      <td>199</td>\n",
       "      <td>187.282809</td>\n",
       "    </tr>\n",
       "  </tbody>\n",
       "</table>\n",
       "<p>1200 rows × 3 columns</p>\n",
       "</div>"
      ],
      "text/plain": [
       "         conf  run        time\n",
       "0     config1    0  104.967142\n",
       "1     config1    1   98.617357\n",
       "2     config1    2  106.476885\n",
       "3     config1    3  115.230299\n",
       "4     config1    4   97.658466\n",
       "...       ...  ...         ...\n",
       "1195  config6  195  168.809495\n",
       "1196  config6  196  159.607244\n",
       "1197  config6  197  171.049799\n",
       "1198  config6  198  164.478283\n",
       "1199  config6  199  187.282809\n",
       "\n",
       "[1200 rows x 3 columns]"
      ]
     },
     "execution_count": 2,
     "metadata": {},
     "output_type": "execute_result"
    }
   ],
   "source": [
    "# TODO nacteni dat ze zip souboru\n",
    "\n",
    "def load_logfile(f) -> dict:\n",
    "    \"\"\"Load a logfile from a file-like object and return a dict with the data.\"\"\"\n",
    "    data = {\n",
    "        \"conf\": None,\n",
    "        \"run\": None,\n",
    "        \"time\": np.nan,\n",
    "    }\n",
    "\n",
    "    for line in f:\n",
    "        line = line.decode(\"utf-8\").split()\n",
    "        if line[0] == \"Configuration:\":\n",
    "            data[\"conf\"] = line[1]\n",
    "        elif line[0] == \"Run:\":\n",
    "            data[\"run\"] = line[1]\n",
    "        elif line[0] == \"Time\":\n",
    "            data[\"time\"] = np.float64(line[3])\n",
    "    return data\n",
    "\n",
    "data = []\n",
    "with ZipFile(\"logfiles.zip\") as zf:\n",
    "    for filename in zf.namelist():\n",
    "        with zf.open(filename, \"r\") as f:\n",
    "            data.append(load_logfile(f))\n",
    "df = pd.DataFrame(data)\n",
    "df"
   ]
  },
  {
   "attachments": {},
   "cell_type": "markdown",
   "metadata": {},
   "source": [
    "## Analýza a čištění dat\n",
    "Vhodným způsobem pro všechny konfigurace analyzujte časy běhů a pokud tam jsou, identifikujte hodnoty, které jsou chybné. "
   ]
  },
  {
   "cell_type": "code",
   "execution_count": 3,
   "metadata": {},
   "outputs": [
    {
     "data": {
      "text/plain": [
       "Text(0.5, 1.0, 'Time per configuration')"
      ]
     },
     "execution_count": 3,
     "metadata": {},
     "output_type": "execute_result"
    },
    {
     "data": {
      "image/png": "[encoded data removed]",
      "text/plain": [
       "<Figure size 1000x500 with 1 Axes>"
      ]
     },
     "metadata": {},
     "output_type": "display_data"
    }
   ],
   "source": [
    "# TODO vykresleni grafu pro identifikace outlieru\n",
    "fig, ax = plt.subplots(figsize=(10, 5))\n",
    "ax.scatter(df[\"conf\"], df[\"time\"])\n",
    "ax.set_xlabel(\"Configuration\")\n",
    "ax.set_ylabel(\"Time\")\n",
    "ax.set_title(\"Time per configuration\")"
   ]
  },
  {
   "attachments": {},
   "cell_type": "markdown",
   "metadata": {},
   "source": [
    "__OTÁZKA K DOPLNĚNÍ:__\n",
    "\n",
    "_Objevily se nějaké chybné hodnoty? Proč tam jsou s ohledem na to, že se jedná o běhy algoritmů?_\n",
    "\n",
    "Objavili sa tam chybné hodnoty (takzv. outliers), ktorých hodnoty sú výrazne odlišné od priemerných výsledkov algoritmov. Hodnoty outlierov sú buď priveľmi vysoké (3500+), kedy je algoritmus ukončený na vypršanie časového limitu, alebo sú príliš nízke (okolo 0), kedy bol algoritmus ukončený segfaultom. "
   ]
  },
  {
   "attachments": {},
   "cell_type": "markdown",
   "metadata": {},
   "source": [
    "Vyčistěte dataframe `df` tak, aby tam tyto hodnoty nebyly a ukažte znovu analýzu toho, že čištění dat bylo úspěšné. Odtud dále pracujte s vyčištěným datasetem."
   ]
  },
  {
   "cell_type": "code",
   "execution_count": 4,
   "metadata": {},
   "outputs": [
    {
     "data": {
      "text/plain": [
       "Text(0.5, 1.0, 'Time per configuration (Filtered)')"
      ]
     },
     "execution_count": 4,
     "metadata": {},
     "output_type": "execute_result"
    },
    {
     "data": {
      "image/png": "[encoded data removed]",
      "text/plain": [
       "<Figure size 1000x500 with 1 Axes>"
      ]
     },
     "metadata": {},
     "output_type": "display_data"
    }
   ],
   "source": [
    "# TODO kod pro upravu dataframe tak, že tam tyto hodnoty nebudou:\n",
    "df_notFiltered = df.copy()\n",
    "df = df[(df[\"time\"] < 500) & (df[\"time\"] > 5)]\n",
    "fig, ax = plt.subplots(figsize=(10, 5))\n",
    "ax.scatter(df[\"conf\"], df[\"time\"])\n",
    "ax.set_xlabel(\"Configuration\")\n",
    "ax.set_ylabel(\"Time\")\n",
    "ax.set_title(\"Time per configuration (Filtered)\")"
   ]
  },
  {
   "attachments": {},
   "cell_type": "markdown",
   "metadata": {},
   "source": [
    "## Deskriptivní popis hodnot\n",
    "Vypište pro jednotlivé konfigurace základní deskriptivní parametry času pro jednotlivé konfigurace.  \n",
    "\n",
    "__TIP__ pokud výsledky uložíte jako Pandas DataFrame, zobrazí se v tabulce."
   ]
  },
  {
   "cell_type": "code",
   "execution_count": 5,
   "metadata": {},
   "outputs": [
    {
     "data": {
      "text/html": [
       "<div>\n",
       "<style scoped>\n",
       "    .dataframe tbody tr th:only-of-type {\n",
       "        vertical-align: middle;\n",
       "    }\n",
       "\n",
       "    .dataframe tbody tr th {\n",
       "        vertical-align: top;\n",
       "    }\n",
       "\n",
       "    .dataframe thead tr th {\n",
       "        text-align: left;\n",
       "    }\n",
       "\n",
       "    .dataframe thead tr:last-of-type th {\n",
       "        text-align: right;\n",
       "    }\n",
       "</style>\n",
       "<table border=\"1\" class=\"dataframe\">\n",
       "  <thead>\n",
       "    <tr>\n",
       "      <th></th>\n",
       "      <th colspan=\"8\" halign=\"left\">time</th>\n",
       "    </tr>\n",
       "    <tr>\n",
       "      <th></th>\n",
       "      <th>count</th>\n",
       "      <th>mean</th>\n",
       "      <th>std</th>\n",
       "      <th>min</th>\n",
       "      <th>25%</th>\n",
       "      <th>50%</th>\n",
       "      <th>75%</th>\n",
       "      <th>max</th>\n",
       "    </tr>\n",
       "    <tr>\n",
       "      <th>conf</th>\n",
       "      <th></th>\n",
       "      <th></th>\n",
       "      <th></th>\n",
       "      <th></th>\n",
       "      <th></th>\n",
       "      <th></th>\n",
       "      <th></th>\n",
       "      <th></th>\n",
       "    </tr>\n",
       "  </thead>\n",
       "  <tbody>\n",
       "    <tr>\n",
       "      <th>config1</th>\n",
       "      <td>193.0</td>\n",
       "      <td>99.590413</td>\n",
       "      <td>9.386788</td>\n",
       "      <td>73.802549</td>\n",
       "      <td>92.979469</td>\n",
       "      <td>99.865028</td>\n",
       "      <td>104.824724</td>\n",
       "      <td>127.201692</td>\n",
       "    </tr>\n",
       "    <tr>\n",
       "      <th>config2</th>\n",
       "      <td>197.0</td>\n",
       "      <td>151.732975</td>\n",
       "      <td>19.833198</td>\n",
       "      <td>85.174653</td>\n",
       "      <td>137.995662</td>\n",
       "      <td>151.516091</td>\n",
       "      <td>163.802880</td>\n",
       "      <td>227.054630</td>\n",
       "    </tr>\n",
       "    <tr>\n",
       "      <th>config3</th>\n",
       "      <td>195.0</td>\n",
       "      <td>138.616959</td>\n",
       "      <td>19.867428</td>\n",
       "      <td>90.567110</td>\n",
       "      <td>124.803901</td>\n",
       "      <td>138.678404</td>\n",
       "      <td>151.536291</td>\n",
       "      <td>201.577616</td>\n",
       "    </tr>\n",
       "    <tr>\n",
       "      <th>config4</th>\n",
       "      <td>199.0</td>\n",
       "      <td>110.317016</td>\n",
       "      <td>30.656816</td>\n",
       "      <td>29.093401</td>\n",
       "      <td>88.742158</td>\n",
       "      <td>110.782732</td>\n",
       "      <td>130.665606</td>\n",
       "      <td>188.971462</td>\n",
       "    </tr>\n",
       "    <tr>\n",
       "      <th>config5</th>\n",
       "      <td>197.0</td>\n",
       "      <td>183.659767</td>\n",
       "      <td>28.729836</td>\n",
       "      <td>107.283620</td>\n",
       "      <td>164.070091</td>\n",
       "      <td>183.843132</td>\n",
       "      <td>201.250693</td>\n",
       "      <td>255.807973</td>\n",
       "    </tr>\n",
       "    <tr>\n",
       "      <th>config6</th>\n",
       "      <td>196.0</td>\n",
       "      <td>162.829359</td>\n",
       "      <td>20.648193</td>\n",
       "      <td>102.074892</td>\n",
       "      <td>149.917475</td>\n",
       "      <td>163.990098</td>\n",
       "      <td>177.730865</td>\n",
       "      <td>208.795048</td>\n",
       "    </tr>\n",
       "  </tbody>\n",
       "</table>\n",
       "</div>"
      ],
      "text/plain": [
       "          time                                                             \\\n",
       "         count        mean        std         min         25%         50%   \n",
       "conf                                                                        \n",
       "config1  193.0   99.590413   9.386788   73.802549   92.979469   99.865028   \n",
       "config2  197.0  151.732975  19.833198   85.174653  137.995662  151.516091   \n",
       "config3  195.0  138.616959  19.867428   90.567110  124.803901  138.678404   \n",
       "config4  199.0  110.317016  30.656816   29.093401   88.742158  110.782732   \n",
       "config5  197.0  183.659767  28.729836  107.283620  164.070091  183.843132   \n",
       "config6  196.0  162.829359  20.648193  102.074892  149.917475  163.990098   \n",
       "\n",
       "                                 \n",
       "                75%         max  \n",
       "conf                             \n",
       "config1  104.824724  127.201692  \n",
       "config2  163.802880  227.054630  \n",
       "config3  151.536291  201.577616  \n",
       "config4  130.665606  188.971462  \n",
       "config5  201.250693  255.807973  \n",
       "config6  177.730865  208.795048  "
      ]
     },
     "execution_count": 5,
     "metadata": {},
     "output_type": "execute_result"
    }
   ],
   "source": [
    "# TODO deskriptivni parametry\n",
    "Des_parameters = df.groupby(\"conf\").describe()\n",
    "Des_parameters"
   ]
  },
  {
   "attachments": {},
   "cell_type": "markdown",
   "metadata": {},
   "source": [
    "__OTÁZKA K DOPLNĚNÍ:__\n",
    "\n",
    "_Okomentujte, co všechno můžeme z parametrů vyčíst._\n",
    "\n",
    "Z parametrov vieme vyčítať počet platných hodnôt pre každú konfiguráciu (count). Následne vidíme aritmetický priemer hodnôt konfigurácií (mean) a rovnako aj štandartnú odchylku (std). Potom sú tam minimálne a maximálne namerané hodnoty z konfigurácií (min, max) a hodnoty podľa percentuálnej polohy v poli hodnôt(25%, 50%, 75%), čiže 50% je medián a 25% a 75% sú spodné a horné kvartily."
   ]
  },
  {
   "attachments": {},
   "cell_type": "markdown",
   "metadata": {},
   "source": [
    "## Vizualizace\n",
    "Vizualizujte časy běhů algoritmů v jednom kompaktním grafu tak, aby byl zřejmý i rozptyl hodnot. Zvolte vhodný graf, který pak níže komentujte."
   ]
  },
  {
   "cell_type": "code",
   "execution_count": 6,
   "metadata": {},
   "outputs": [
    {
     "data": {
      "text/plain": [
       "<Axes: title={'center': 'time'}, xlabel='conf', ylabel='Time'>"
      ]
     },
     "execution_count": 6,
     "metadata": {},
     "output_type": "execute_result"
    },
    {
     "data": {
      "image/png": "[encoded data removed]",
      "text/plain": [
       "<Figure size 1000x500 with 1 Axes>"
      ]
     },
     "metadata": {},
     "output_type": "display_data"
    }
   ],
   "source": [
    "# TODO graf\n",
    "fig, ax = plt.subplots(figsize=(10, 5))\n",
    "ax.set_ylabel(\"Time\")\n",
    "df.boxplot(column=\"time\", by=\"conf\", ax=ax)"
   ]
  },
  {
   "attachments": {},
   "cell_type": "markdown",
   "metadata": {},
   "source": [
    "__OTÁZKA K DOPLNĚNÍ:__\n",
    "\n",
    "_Okomentujte  výsledky z tabulky._\n",
    "\n",
    "Pre každú konfiguráciu som vizualizoval jej boxplot. Vrchné a spodné hranice zobrazujú maximálne a minimálne hodnoty v distribúcii. Modrý štvoruholník zobrazuje rozptyl medzi spodným a vrchným kvartilom a zelená čiara vnútry štvoruholníka zobrazuje medián. Prázdne krúžky sú hodnoty, pri ktorých sa algoritmus vykreslovacej funkcie rozhodnol, že nepatria do distribúcie ale kedže sú to platné hodnoty v meraní tak si nemyslím, že by som ich mal vyradiť z dataframu. Pri pohlade na graf sa javia najlepšie konfigurácie 1 a 4."
   ]
  },
  {
   "attachments": {},
   "cell_type": "markdown",
   "metadata": {},
   "source": [
    "## Určení efektivity konfigurací algoritmů\n",
    "Nás ale zajímá, jaká konfigurace je nejrychlejší. Z výše vykresleného grafu můžeme vyloučit některé konfigurace. Existuje tam však minimálně jedna dvojice, u které nedokážeme jednoznačně určit, která je lepší - pokud nebudeme porovnávat pouze extrémní hodnoty, které mohou být dané náhodou, ale celkově. Proto proveďte vhodný test významnosti - v následující části diskutujte zejména rozložení dat (i s odkazem na předchozí buňky, variabilitu vs polohu a podobně). Je nutné každý logický krok a výběry statistických funkcí komentovat. Můžete i přidat další buňky.\n",
    "\n",
    "Vužijte vhodnou funkci z knihovny `scipy.stats` a funkci poté __implementujte sami__ na základě základních matematických funkcí knihovny `numpy` případně i funkcí pro výpočet studentova rozložení v [scipy.stats](https://docs.scipy.org/doc/scipy/reference/generated/scipy.stats.t.html). Při vlastní implementaci není nutné se primárně soustředit na efektivitu výpočtu (není potřeba využít všechny funkce numpy, můžete použít normální cykly a podobně - v hodnocení však bude zahrnuta přehlednost a neměly by se objevit jasné chyby, jako je zvýšení třídy složitosti a podobně)."
   ]
  },
  {
   "attachments": {},
   "cell_type": "markdown",
   "metadata": {},
   "source": [
    "__OTÁZKA K DOPLNĚNÍ:__\n",
    "\n",
    "_Jaká data budete zkoumat? Jaké mají rozložení a parametry (např. varianci) a jaký test použijete? Jaká je nulová hypotéza? Jak se liší variabilita a poloha vybraných konfigurací?_\n",
    "\n",
    "Budem skúmať dáta z konfigurácií 1 a 4. Rozdelenie oboch konfigurácií je normálne a ich variancia je výrazne rozdielna (cca. 90 vs 900). Počet hodnôt v každej z konfigurácií nieje rovnaký. Preto použijem Welchov t-test, ktorý je vhodný pre porovnanie týchto typov konfigurácií. Nulová hypotéza pri tomto teste je, že sa stredné hodnoty oboch konfigurácií rovnajú. V následnom teste sa budeme snažiť vyvrátiť alebo potvrdiť túto hypotézu. Vybrané konfigurácie sa líšia hlavne vo variabilite hodnôt, kedy niektoré behy vo 4. konfigurácii naberajú nižšie hodnoty ako v 1. konfigurácii ale zároveň hodnoty v 1. konfigurácii sú omnoho menej variabilné a nemajú takú vysokú odchylku ako vo 4. konfigurácii.\n",
    "\n",
    "H0: sigma1 == sigma2\n",
    "\n",
    "H1: sigma1 > sigma2 (Konfigurácia 4 je viac efektívnejšia)\n",
    "\n",
    "H2: sigma1 < sigma2 (Konfigurácia 1 je viac efektívnejšia)"
   ]
  },
  {
   "cell_type": "code",
   "execution_count": 7,
   "metadata": {},
   "outputs": [
    {
     "data": {
      "text/plain": [
       "(-4.713292868840319, 4.168682113989347e-06)"
      ]
     },
     "execution_count": 7,
     "metadata": {},
     "output_type": "execute_result"
    }
   ],
   "source": [
    "# TODO: Implementace s vyuzitim knihovni funkce\n",
    "t, p = stats.ttest_ind(df[df[\"conf\"] == \"config1\"][\"time\"], df[df[\"conf\"] == \"config4\"][\"time\"], equal_var=False)\n",
    "t, p"
   ]
  },
  {
   "attachments": {},
   "cell_type": "markdown",
   "metadata": {},
   "source": [
    "__OTÁZKA K DOPLNĚNÍ:__\n",
    "\n",
    "_Jaký je závěr statistického testu?_\n",
    "\n",
    "Po vykonaní testu sme zistili že rozdiel medzi strednými hodnotami konfiguráci je menší ako nula a tým pádom by mala byť 1. konfigurácia efektívnejšia. Avšak na vyvrátenie nulovej hypotézy je potrebné ešte zistiť pravdepodobnosť, že výsledná hodnota z testu nieje pravdivá. Táto pravdepodobnosť sa nachádza v hodnote premennej p a jej hodnota je približne 4e-6. Ak chceme mať istotu 95 % že výsledok testu je pravdivý musí byť táto hodnota menšia ako 0.05. Tým pádom možme vyradiť nulovú hypotézu a teda platí 2. hypotéza podľa ktorej je 1. konfigurácia efektívnejšia ako 4. konfigurácia."
   ]
  },
  {
   "cell_type": "code",
   "execution_count": 8,
   "metadata": {},
   "outputs": [
    {
     "data": {
      "text/plain": [
       "(-4.713292868840319, 4.168682113947497e-06)"
      ]
     },
     "execution_count": 8,
     "metadata": {},
     "output_type": "execute_result"
    }
   ],
   "source": [
    "# TODO vlastni implementace zvoleneho testu\n",
    "def My_TTest(A, B):\n",
    "    A_len = len(A)\n",
    "    B_len = len(B)\n",
    "    \n",
    "    A_mean = np.mean(A) #sum(A) / A_len\n",
    "    B_mean = np.mean(B) #sum(B) / B_len\n",
    "\n",
    "    A_std = np.std(A, ddof=1) #sqrt(sum((A - A_mean) ** 2) / (A_len - 1))\n",
    "    B_std = np.std(B, ddof=1) #sqrt(sum((B - B_mean) ** 2) / (B_len - 1))\n",
    "\n",
    "    dof = (A_std ** 2 / A_len + B_std ** 2 / B_len) ** 2 / ((A_std ** 4 / (A_len ** 2 * (A_len - 1))) + (B_std ** 4 / (B_len ** 2 * (B_len - 1)))) #degrees of freedom\n",
    "\n",
    "    t = (A_mean - B_mean) / np.sqrt(A_std ** 2 / A_len + B_std ** 2 / B_len)\n",
    "    p = 2 * (1 - stats.t.cdf(np.abs(t),dof)) #cdf funkcia sa pozera do tabulky distribucie a vracia pravdepodobnost, ktoru potom musime prenasobit 2, lebo je to dvojstranny test\n",
    "\n",
    "    return t, p\n",
    "\n",
    "A = df[df[\"conf\"] == \"config1\"][\"time\"]\n",
    "B = df[df[\"conf\"] == \"config4\"][\"time\"]\n",
    "\n",
    "t, p = My_TTest(A, B)\n",
    "t, p"
   ]
  }
 ],
 "metadata": {
  "kernelspec": {
   "display_name": "Python 3",
   "language": "python",
   "name": "python3"
  },
  "language_info": {
   "codemirror_mode": {
    "name": "ipython",
    "version": 3
   },
   "file_extension": ".py",
   "mimetype": "text/x-python",
   "name": "python",
   "nbconvert_exporter": "python",
   "pygments_lexer": "ipython3",
   "version": "3.11.1"
  },
  "orig_nbformat": 4
 },
 "nbformat": 4,
 "nbformat_minor": 2
}
